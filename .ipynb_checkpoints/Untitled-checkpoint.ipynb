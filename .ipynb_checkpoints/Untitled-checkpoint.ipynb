{
 "cells": [
  {
   "cell_type": "code",
   "execution_count": 1,
   "id": "2acea21f",
   "metadata": {},
   "outputs": [
    {
     "data": {
      "text/plain": [
       "{}"
      ]
     },
     "execution_count": 1,
     "metadata": {},
     "output_type": "execute_result"
    }
   ],
   "source": [
    "from enum import Enum\n",
    "import os\n",
    "\n",
    "class IOSettings(Enum):\n",
    "    tries: int(os.environ.get(\"MAPCHETE_IO_RETRY_TRIES\", 3))\n",
    "    delay: float(os.environ.get(\"MAPCHETE_IO_RETRY_DELAY\", 1))\n",
    "    backoff: float(os.environ.get(\"MAPCHETE_IO_RETRY_BACKOFF\", 1))\n",
    "\n",
    "dict(IOSettings)\n"
   ]
  },
  {
   "cell_type": "code",
   "execution_count": 2,
   "id": "80563ece",
   "metadata": {},
   "outputs": [
    {
     "data": {
      "text/plain": [
       "{'tries': 3, 'delay': 1.0, 'backoff': 5.0}"
      ]
     },
     "execution_count": 2,
     "metadata": {},
     "output_type": "execute_result"
    }
   ],
   "source": [
    "from pydantic import BaseModel\n",
    "\n",
    "class IOSettings(BaseModel):\n",
    "    tries: int = int(os.environ.get(\"MAPCHETE_IO_RETRY_TRIES\", 3))\n",
    "    delay: float = float(os.environ.get(\"MAPCHETE_IO_RETRY_DELAY\", 1))\n",
    "    backoff: float = float(os.environ.get(\"MAPCHETE_IO_RETRY_BACKOFF\", 1))\n",
    "\n",
    "dict(IOSettings())"
   ]
  },
  {
   "cell_type": "code",
   "execution_count": 7,
   "id": "15e4b6fe",
   "metadata": {},
   "outputs": [
    {
     "name": "stdout",
     "output_type": "stream",
     "text": [
      "3\n"
     ]
    },
    {
     "data": {
      "text/plain": [
       "{'tries': 3, 'delay': 1.0, 'backoff': 1.0}"
      ]
     },
     "execution_count": 7,
     "metadata": {},
     "output_type": "execute_result"
    }
   ],
   "source": [
    "from pydantic_settings import BaseSettings, SettingsConfigDict\n",
    "\n",
    "\n",
    "class IOSettings(BaseSettings):\n",
    "    tries: int = 3\n",
    "    delay: float = 1.0\n",
    "    backoff: float = 1.0\n",
    "    model_config = SettingsConfigDict(env_prefix='MAPCHETE_IO_RETRY_')\n",
    "\n",
    "print(os.environ[\"MAPCHETE_IO_RETRY_BACKOFF\"])\n",
    "dict(IOSettings())"
   ]
  },
  {
   "cell_type": "code",
   "execution_count": null,
   "id": "33b7f6d4",
   "metadata": {},
   "outputs": [],
   "source": []
  },
  {
   "cell_type": "code",
   "execution_count": null,
   "id": "4ed1875b",
   "metadata": {},
   "outputs": [],
   "source": []
  }
 ],
 "metadata": {
  "kernelspec": {
   "display_name": "Python 3 (ipykernel)",
   "language": "python",
   "name": "python3"
  },
  "language_info": {
   "codemirror_mode": {
    "name": "ipython",
    "version": 3
   },
   "file_extension": ".py",
   "mimetype": "text/x-python",
   "name": "python",
   "nbconvert_exporter": "python",
   "pygments_lexer": "ipython3",
   "version": "3.10.12"
  }
 },
 "nbformat": 4,
 "nbformat_minor": 5
}
